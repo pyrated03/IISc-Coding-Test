{
  "nbformat": 4,
  "nbformat_minor": 0,
  "metadata": {
    "colab": {
      "name": "PACS_Domain_Generalization(IISc Coding Test)_Adarsh_Subramanian.ipynb",
      "provenance": [],
      "collapsed_sections": [],
      "authorship_tag": "ABX9TyO33e3TFT0eYZ41ymLbcVlO",
      "include_colab_link": true
    },
    "kernelspec": {
      "name": "python3",
      "display_name": "Python 3"
    },
    "language_info": {
      "name": "python"
    },
    "accelerator": "GPU",
    "widgets": {
      "application/vnd.jupyter.widget-state+json": {
        "574e826dc602496a8bc69f02855f5d09": {
          "model_module": "@jupyter-widgets/controls",
          "model_name": "HBoxModel",
          "state": {
            "_view_name": "HBoxView",
            "_dom_classes": [],
            "_model_name": "HBoxModel",
            "_view_module": "@jupyter-widgets/controls",
            "_model_module_version": "1.5.0",
            "_view_count": null,
            "_view_module_version": "1.5.0",
            "box_style": "",
            "layout": "IPY_MODEL_6bd46851d10b4f5fb4e6cb1065489519",
            "_model_module": "@jupyter-widgets/controls",
            "children": [
              "IPY_MODEL_5321ed51542e4e8ca597ead3da9d95dc",
              "IPY_MODEL_f0ffcfdbf0fb452ead288f3251b38726"
            ]
          }
        },
        "6bd46851d10b4f5fb4e6cb1065489519": {
          "model_module": "@jupyter-widgets/base",
          "model_name": "LayoutModel",
          "state": {
            "_view_name": "LayoutView",
            "grid_template_rows": null,
            "right": null,
            "justify_content": null,
            "_view_module": "@jupyter-widgets/base",
            "overflow": null,
            "_model_module_version": "1.2.0",
            "_view_count": null,
            "flex_flow": null,
            "width": null,
            "min_width": null,
            "border": null,
            "align_items": null,
            "bottom": null,
            "_model_module": "@jupyter-widgets/base",
            "top": null,
            "grid_column": null,
            "overflow_y": null,
            "overflow_x": null,
            "grid_auto_flow": null,
            "grid_area": null,
            "grid_template_columns": null,
            "flex": null,
            "_model_name": "LayoutModel",
            "justify_items": null,
            "grid_row": null,
            "max_height": null,
            "align_content": null,
            "visibility": null,
            "align_self": null,
            "height": null,
            "min_height": null,
            "padding": null,
            "grid_auto_rows": null,
            "grid_gap": null,
            "max_width": null,
            "order": null,
            "_view_module_version": "1.2.0",
            "grid_template_areas": null,
            "object_position": null,
            "object_fit": null,
            "grid_auto_columns": null,
            "margin": null,
            "display": null,
            "left": null
          }
        },
        "5321ed51542e4e8ca597ead3da9d95dc": {
          "model_module": "@jupyter-widgets/controls",
          "model_name": "FloatProgressModel",
          "state": {
            "_view_name": "ProgressView",
            "style": "IPY_MODEL_d9005c322fe94388bf65ad235951f769",
            "_dom_classes": [],
            "description": "100%",
            "_model_name": "FloatProgressModel",
            "bar_style": "success",
            "max": 46830571,
            "_view_module": "@jupyter-widgets/controls",
            "_model_module_version": "1.5.0",
            "value": 46830571,
            "_view_count": null,
            "_view_module_version": "1.5.0",
            "orientation": "horizontal",
            "min": 0,
            "description_tooltip": null,
            "_model_module": "@jupyter-widgets/controls",
            "layout": "IPY_MODEL_e4bf7e7b01b8451a81bbf2abe36c8c64"
          }
        },
        "f0ffcfdbf0fb452ead288f3251b38726": {
          "model_module": "@jupyter-widgets/controls",
          "model_name": "HTMLModel",
          "state": {
            "_view_name": "HTMLView",
            "style": "IPY_MODEL_da4c568efadf42c689e9cb8b0ce83c29",
            "_dom_classes": [],
            "description": "",
            "_model_name": "HTMLModel",
            "placeholder": "​",
            "_view_module": "@jupyter-widgets/controls",
            "_model_module_version": "1.5.0",
            "value": " 44.7M/44.7M [00:20&lt;00:00, 2.26MB/s]",
            "_view_count": null,
            "_view_module_version": "1.5.0",
            "description_tooltip": null,
            "_model_module": "@jupyter-widgets/controls",
            "layout": "IPY_MODEL_ff13ab12f1574c0a8b5db3541d2d175c"
          }
        },
        "d9005c322fe94388bf65ad235951f769": {
          "model_module": "@jupyter-widgets/controls",
          "model_name": "ProgressStyleModel",
          "state": {
            "_view_name": "StyleView",
            "_model_name": "ProgressStyleModel",
            "description_width": "initial",
            "_view_module": "@jupyter-widgets/base",
            "_model_module_version": "1.5.0",
            "_view_count": null,
            "_view_module_version": "1.2.0",
            "bar_color": null,
            "_model_module": "@jupyter-widgets/controls"
          }
        },
        "e4bf7e7b01b8451a81bbf2abe36c8c64": {
          "model_module": "@jupyter-widgets/base",
          "model_name": "LayoutModel",
          "state": {
            "_view_name": "LayoutView",
            "grid_template_rows": null,
            "right": null,
            "justify_content": null,
            "_view_module": "@jupyter-widgets/base",
            "overflow": null,
            "_model_module_version": "1.2.0",
            "_view_count": null,
            "flex_flow": null,
            "width": null,
            "min_width": null,
            "border": null,
            "align_items": null,
            "bottom": null,
            "_model_module": "@jupyter-widgets/base",
            "top": null,
            "grid_column": null,
            "overflow_y": null,
            "overflow_x": null,
            "grid_auto_flow": null,
            "grid_area": null,
            "grid_template_columns": null,
            "flex": null,
            "_model_name": "LayoutModel",
            "justify_items": null,
            "grid_row": null,
            "max_height": null,
            "align_content": null,
            "visibility": null,
            "align_self": null,
            "height": null,
            "min_height": null,
            "padding": null,
            "grid_auto_rows": null,
            "grid_gap": null,
            "max_width": null,
            "order": null,
            "_view_module_version": "1.2.0",
            "grid_template_areas": null,
            "object_position": null,
            "object_fit": null,
            "grid_auto_columns": null,
            "margin": null,
            "display": null,
            "left": null
          }
        },
        "da4c568efadf42c689e9cb8b0ce83c29": {
          "model_module": "@jupyter-widgets/controls",
          "model_name": "DescriptionStyleModel",
          "state": {
            "_view_name": "StyleView",
            "_model_name": "DescriptionStyleModel",
            "description_width": "",
            "_view_module": "@jupyter-widgets/base",
            "_model_module_version": "1.5.0",
            "_view_count": null,
            "_view_module_version": "1.2.0",
            "_model_module": "@jupyter-widgets/controls"
          }
        },
        "ff13ab12f1574c0a8b5db3541d2d175c": {
          "model_module": "@jupyter-widgets/base",
          "model_name": "LayoutModel",
          "state": {
            "_view_name": "LayoutView",
            "grid_template_rows": null,
            "right": null,
            "justify_content": null,
            "_view_module": "@jupyter-widgets/base",
            "overflow": null,
            "_model_module_version": "1.2.0",
            "_view_count": null,
            "flex_flow": null,
            "width": null,
            "min_width": null,
            "border": null,
            "align_items": null,
            "bottom": null,
            "_model_module": "@jupyter-widgets/base",
            "top": null,
            "grid_column": null,
            "overflow_y": null,
            "overflow_x": null,
            "grid_auto_flow": null,
            "grid_area": null,
            "grid_template_columns": null,
            "flex": null,
            "_model_name": "LayoutModel",
            "justify_items": null,
            "grid_row": null,
            "max_height": null,
            "align_content": null,
            "visibility": null,
            "align_self": null,
            "height": null,
            "min_height": null,
            "padding": null,
            "grid_auto_rows": null,
            "grid_gap": null,
            "max_width": null,
            "order": null,
            "_view_module_version": "1.2.0",
            "grid_template_areas": null,
            "object_position": null,
            "object_fit": null,
            "grid_auto_columns": null,
            "margin": null,
            "display": null,
            "left": null
          }
        }
      }
    }
  },
  "cells": [
    {
      "cell_type": "markdown",
      "metadata": {
        "id": "view-in-github",
        "colab_type": "text"
      },
      "source": [
        "<a href=\"https://colab.research.google.com/github/pyrated03/IISc-Coding-Test/blob/main/PACS_Domain_Generalization(IISc_Coding_Test)_Adarsh_Subramanian.ipynb\" target=\"_parent\"><img src=\"https://colab.research.google.com/assets/colab-badge.svg\" alt=\"Open In Colab\"/></a>"
      ]
    },
    {
      "cell_type": "markdown",
      "metadata": {
        "id": "YCs69-tofHyp"
      },
      "source": [
        "### Clearing GPU memory before training"
      ]
    },
    {
      "cell_type": "code",
      "metadata": {
        "id": "fQ26Nzo-gGnx"
      },
      "source": [
        "import torch\n",
        "torch.cuda.empty_cache()"
      ],
      "execution_count": null,
      "outputs": []
    },
    {
      "cell_type": "code",
      "metadata": {
        "id": "ZlrIpvRKtb0M"
      },
      "source": [
        "import gc\n",
        "# del variables\n",
        "gc.collect()\n",
        "torch.cuda.empty_cache()"
      ],
      "execution_count": null,
      "outputs": []
    },
    {
      "cell_type": "code",
      "metadata": {
        "id": "0U4dfwZ3thIw"
      },
      "source": [
        "torch.cuda.memory_summary(device=None, abbreviated=False)\n",
        "import os\n",
        "os.environ['CUDA_VISIBLE_DEVICES']='2, 3'"
      ],
      "execution_count": null,
      "outputs": []
    },
    {
      "cell_type": "markdown",
      "metadata": {
        "id": "o8zCdQJ7fQDt"
      },
      "source": [
        "## MOUNTING DRIVE"
      ]
    },
    {
      "cell_type": "code",
      "metadata": {
        "colab": {
          "base_uri": "https://localhost:8080/"
        },
        "id": "bAhKT45HQfQ-",
        "outputId": "eaf6b555-dd16-489a-ed19-185778894685"
      },
      "source": [
        "from google.colab import drive\n",
        "drive.mount('/content/gdrive')\n"
      ],
      "execution_count": null,
      "outputs": [
        {
          "output_type": "stream",
          "text": [
            "Mounted at /content/gdrive\n"
          ],
          "name": "stdout"
        }
      ]
    },
    {
      "cell_type": "markdown",
      "metadata": {
        "id": "A15JvotRfUES"
      },
      "source": [
        "INSTALLING RESNET_PYTORCH LIBRARY"
      ]
    },
    {
      "cell_type": "code",
      "metadata": {
        "colab": {
          "base_uri": "https://localhost:8080/"
        },
        "id": "iJ5lYDOX8Efi",
        "outputId": "1194d321-59fa-46a8-91bc-2bdc67a1f062"
      },
      "source": [
        "!pip3 install resnet_pytorch"
      ],
      "execution_count": null,
      "outputs": [
        {
          "output_type": "stream",
          "text": [
            "Collecting resnet_pytorch\n",
            "  Downloading https://files.pythonhosted.org/packages/78/08/63f61c49fba28416244c98a425ac180d3cbea15884c5d29fafd720ae89e6/resnet_pytorch-0.2.0-py2.py3-none-any.whl\n",
            "Requirement already satisfied: torch in /usr/local/lib/python3.7/dist-packages (from resnet_pytorch) (1.9.0+cu102)\n",
            "Requirement already satisfied: typing-extensions in /usr/local/lib/python3.7/dist-packages (from torch->resnet_pytorch) (3.7.4.3)\n",
            "Installing collected packages: resnet-pytorch\n",
            "Successfully installed resnet-pytorch-0.2.0\n"
          ],
          "name": "stdout"
        }
      ]
    },
    {
      "cell_type": "markdown",
      "metadata": {
        "id": "tQMgnKk6fZtK"
      },
      "source": [
        "### UNZIPPING THR GIVEN PACS.zip DATA FILE TO USE FOR TRAINING. \n",
        "THE BELOW LINE HAS BEEN COMMENTED AS THE FILE HAS BEEN UNZIPPED AND NEED NOT BE DONE AGAIN."
      ]
    },
    {
      "cell_type": "code",
      "metadata": {
        "id": "PylWpekYcFXp"
      },
      "source": [
        "# !unzip gdrive/My\\ Drive/IISc\\ Coding\\ Test/PACS.zip -d gdrive/My\\ Drive/IISc\\ Coding\\ Test"
      ],
      "execution_count": null,
      "outputs": []
    },
    {
      "cell_type": "markdown",
      "metadata": {
        "id": "GYzAXYwafpZ2"
      },
      "source": [
        "IMPORTING NECESSARY LIBRARIES"
      ]
    },
    {
      "cell_type": "code",
      "metadata": {
        "id": "zi1okmTeL89i"
      },
      "source": [
        "import numpy as np\n",
        "import pandas as pd\n",
        "import matplotlib.pyplot as plt\n",
        "import os\n",
        "import PIL\n",
        "from torch.utils.data import Dataset, DataLoader\n",
        "from torchvision.io import read_image\n",
        "from torchvision.utils import make_grid\n",
        "\n",
        "import torchvision.transforms as T\n",
        "import torch\n",
        "import torch.nn as nn\n",
        "import torchvision\n",
        "from torchvision.utils import make_grid\n",
        "from torchvision.utils import save_image    \n",
        "from IPython.display import Image\n",
        "import random\n",
        "\n",
        "\n",
        "import torch.optim as optim\n",
        "import torch.nn.functional as F\n",
        "from torchvision import *\n",
        "import time\n",
        "import copy\n",
        "from torch.optim import lr_scheduler\n"
      ],
      "execution_count": null,
      "outputs": []
    },
    {
      "cell_type": "markdown",
      "metadata": {
        "id": "-aqpke65gwE0"
      },
      "source": [
        "DEFINING NECESSARY TRANSFORMS"
      ]
    },
    {
      "cell_type": "code",
      "metadata": {
        "id": "2yrBuGXE83Js"
      },
      "source": [
        "# add transforms to the data\n",
        "# some of the transformations have been commented out due to GPU constraints\n",
        "data_transforms = {\n",
        "    'train': transforms.Compose([\n",
        "        # transforms.RandomRotation(45),\n",
        "        # transforms.RandomResizedCrop(224),\n",
        "        # transforms.RandomHorizontalFlip(),\n",
        "        transforms.Resize((32)),#attention \n",
        "        # transforms.ToTensor(),\n",
        "        # transforms.Normalize([0.485, 0.456, 0.406], \n",
        "                            # [0.229, 0.224, 0.225])\n",
        "    ]),\n",
        "    'valid': transforms.Compose([\n",
        "        transforms.Resize((32))\n",
        "    ]),\n",
        "    'test': transforms.Compose([\n",
        "        transforms.Resize((32))\n",
        "    ])\n",
        "}"
      ],
      "execution_count": null,
      "outputs": []
    },
    {
      "cell_type": "markdown",
      "metadata": {
        "id": "CMC0oqDsg0Jk"
      },
      "source": [
        "### **DATALOADER**"
      ]
    },
    {
      "cell_type": "code",
      "metadata": {
        "id": "VdBChvVJpHTp"
      },
      "source": [
        "class MyDataset(Dataset):\n",
        "\n",
        "    def __init__(self, train = True, transforms = None):\n",
        "        \n",
        "        self.transforms = transforms\n",
        "        if train:\n",
        "            path_p = \"gdrive/My Drive/IISc Coding Test/kfold/photo\"\n",
        "            path_a = \"gdrive/My Drive/IISc Coding Test/kfold/art_painting\"\n",
        "            path_c = \"gdrive/My Drive/IISc Coding Test/kfold/cartoon\"\n",
        "\n",
        "            path_labels = os.listdir(path_p)\n",
        "            self.label_dict = {}\n",
        "            i = 0\n",
        "            for l in path_labels:\n",
        "                self.label_dict[l] = i\n",
        "                i+=1\n",
        "\n",
        "            # print(path_labels)\n",
        "            self.images_label_dict = {}\n",
        "\n",
        "            for label in path_labels:\n",
        "                path_1 = os.listdir(path_p+\"/\"+label)\n",
        "                # count+=len(path_1)\n",
        "                path_2 = os.listdir(path_a+\"/\"+label)\n",
        "                # count+=len(path_2)\n",
        "                path_3 = os.listdir(path_c+\"/\"+label)\n",
        "                # count+=len(path_3)\n",
        "\n",
        "                for path_img in path_1:\n",
        "                    path_img = path_p+\"/\"+label+\"/\"+path_img\n",
        "                    self.images_label_dict[path_img] = label \n",
        "\n",
        "                for path_img in path_2:\n",
        "                    path_img = path_a+\"/\"+label+\"/\"+path_img\n",
        "                    self.images_label_dict[path_img] = label\n",
        "\n",
        "                for path_img in path_3:\n",
        "                    path_img = path_c+\"/\"+label+\"/\"+path_img\n",
        "                    self.images_label_dict[path_img] = label\n",
        "\n",
        "        else:\n",
        "            path_test = \"gdrive/My Drive/IISc Coding Test/kfold/sketch\"\n",
        "            path_labels = os.listdir(path_test)\n",
        "            self.label_dict = {}\n",
        "            i = 0\n",
        "            for l in path_labels:\n",
        "                self.label_dict[l] = i\n",
        "                i+=1\n",
        "\n",
        "            # print(path_labels)\n",
        "            self.images_label_dict = {}\n",
        "\n",
        "            for label in path_labels:\n",
        "                path_1 = os.listdir(path_test+\"/\"+label)\n",
        "\n",
        "                for path_img in path_1:\n",
        "                    path_img = path_test+\"/\"+label+\"/\"+path_img\n",
        "                    self.images_label_dict[path_img] = label \n",
        "       \n",
        "    def __getitem__(self, index):\n",
        "        keys = list(self.images_label_dict.keys())\n",
        "        values = list(self.images_label_dict.values())\n",
        "        image = read_image(keys[index])\n",
        "        label = self.label_dict[values[index]]\n",
        "\n",
        "        # sample = {'x':image, 'y':label}\n",
        "        # return sample\n",
        "        if self.transforms:\n",
        "          image = self.transforms(image)\n",
        "          \n",
        "        return image,label\n",
        "\n",
        "    def __len__(self):\n",
        "        return len(self.images_label_dict)"
      ],
      "execution_count": null,
      "outputs": []
    },
    {
      "cell_type": "markdown",
      "metadata": {
        "id": "4WeGn8VOg8Vv"
      },
      "source": [
        "LOADING TRAIN(SOURCE) DATA AND SPLITTING 10% OF IT FOR VALIDATION"
      ]
    },
    {
      "cell_type": "code",
      "metadata": {
        "id": "lQdGkesP5P-Q"
      },
      "source": [
        "dset = MyDataset(train=True, transforms = data_transforms['train'])\n",
        "batch_size = 4\n",
        "validation_split = 0.1 #10% of source domain kept as validation set\n",
        "shuffle_dataset = True\n",
        "random_seed= 42\n",
        "\n",
        "from torch.utils.data.sampler import SubsetRandomSampler\n",
        "\n",
        "dataset_size = len(dset)\n",
        "indices = list(range(dataset_size))\n",
        "split = int(np.floor(validation_split * dataset_size))\n",
        "if shuffle_dataset :\n",
        "    np.random.seed(random_seed)\n",
        "    np.random.shuffle(indices)\n",
        "train_indices, val_indices = indices[split:], indices[:split]\n",
        "\n",
        "# Creating PT data samplers and loaders:\n",
        "train_sampler = SubsetRandomSampler(train_indices)\n",
        "valid_sampler = SubsetRandomSampler(val_indices)\n",
        "\n",
        "train_ds = DataLoader(dset, batch_size=batch_size, sampler=train_sampler)\n",
        "dset = MyDataset(train=True, transforms = data_transforms['valid'])\n",
        "validation_ds = DataLoader(dset, batch_size=batch_size, sampler=valid_sampler)\n"
      ],
      "execution_count": null,
      "outputs": []
    },
    {
      "cell_type": "markdown",
      "metadata": {
        "id": "m2E4eS71hDSt"
      },
      "source": [
        "LOADING TEST(TARGET) DATA"
      ]
    },
    {
      "cell_type": "code",
      "metadata": {
        "id": "ux3hW9qb_OI_"
      },
      "source": [
        "test_dset = MyDataset(train = False, transforms = data_transforms['test'])\n",
        "batch_size = 4\n",
        "random_seed= 42\n",
        "\n",
        "test_ds = DataLoader(test_dset, batch_size=batch_size)"
      ],
      "execution_count": null,
      "outputs": []
    },
    {
      "cell_type": "code",
      "metadata": {
        "colab": {
          "base_uri": "https://localhost:8080/"
        },
        "id": "qXSSur5R5mRa",
        "outputId": "25ae13ee-af5e-4183-82da-b7e042fd90d3"
      },
      "source": [
        "dataset_sizes = {'train' : len(train_ds)*batch_size, 'valid' : len(validation_ds)*batch_size}\n",
        "print(len(train_ds))\n",
        "print(len(validation_ds))\n",
        "print(len(test_ds))\n"
      ],
      "execution_count": null,
      "outputs": [
        {
          "output_type": "stream",
          "text": [
            "1364\n",
            "152\n",
            "983\n"
          ],
          "name": "stdout"
        }
      ]
    },
    {
      "cell_type": "code",
      "metadata": {
        "id": "weU-5vIIGjXb",
        "colab": {
          "base_uri": "https://localhost:8080/"
        },
        "outputId": "bd0724e9-16f0-41c5-84a8-58bd59d325da"
      },
      "source": [
        "device = torch.device('cuda:0' if torch.cuda.is_available() else 'cpu')\n",
        "torch.cuda.is_available()"
      ],
      "execution_count": null,
      "outputs": [
        {
          "output_type": "execute_result",
          "data": {
            "text/plain": [
              "True"
            ]
          },
          "metadata": {
            "tags": []
          },
          "execution_count": 13
        }
      ]
    },
    {
      "cell_type": "markdown",
      "metadata": {
        "id": "S0XYSuDghJAM"
      },
      "source": [
        "### **DEFINING RESNET-18 AS THE FEATURE EXTRACTOR**"
      ]
    },
    {
      "cell_type": "code",
      "metadata": {
        "colab": {
          "base_uri": "https://localhost:8080/",
          "height": 1000,
          "referenced_widgets": [
            "574e826dc602496a8bc69f02855f5d09",
            "6bd46851d10b4f5fb4e6cb1065489519",
            "5321ed51542e4e8ca597ead3da9d95dc",
            "f0ffcfdbf0fb452ead288f3251b38726",
            "d9005c322fe94388bf65ad235951f769",
            "e4bf7e7b01b8451a81bbf2abe36c8c64",
            "da4c568efadf42c689e9cb8b0ce83c29",
            "ff13ab12f1574c0a8b5db3541d2d175c"
          ]
        },
        "id": "FYDcz4IyFxby",
        "outputId": "a14a8226-0483-483b-ef0e-92a9d5b1d4d9"
      },
      "source": [
        "model = models.resnet18(pretrained=True)\n",
        "model"
      ],
      "execution_count": null,
      "outputs": [
        {
          "output_type": "stream",
          "text": [
            "Downloading: \"https://download.pytorch.org/models/resnet18-f37072fd.pth\" to /root/.cache/torch/hub/checkpoints/resnet18-f37072fd.pth\n"
          ],
          "name": "stderr"
        },
        {
          "output_type": "display_data",
          "data": {
            "application/vnd.jupyter.widget-view+json": {
              "model_id": "574e826dc602496a8bc69f02855f5d09",
              "version_minor": 0,
              "version_major": 2
            },
            "text/plain": [
              "HBox(children=(FloatProgress(value=0.0, max=46830571.0), HTML(value='')))"
            ]
          },
          "metadata": {
            "tags": []
          }
        },
        {
          "output_type": "stream",
          "text": [
            "\n"
          ],
          "name": "stdout"
        },
        {
          "output_type": "execute_result",
          "data": {
            "text/plain": [
              "ResNet(\n",
              "  (conv1): Conv2d(3, 64, kernel_size=(7, 7), stride=(2, 2), padding=(3, 3), bias=False)\n",
              "  (bn1): BatchNorm2d(64, eps=1e-05, momentum=0.1, affine=True, track_running_stats=True)\n",
              "  (relu): ReLU(inplace=True)\n",
              "  (maxpool): MaxPool2d(kernel_size=3, stride=2, padding=1, dilation=1, ceil_mode=False)\n",
              "  (layer1): Sequential(\n",
              "    (0): BasicBlock(\n",
              "      (conv1): Conv2d(64, 64, kernel_size=(3, 3), stride=(1, 1), padding=(1, 1), bias=False)\n",
              "      (bn1): BatchNorm2d(64, eps=1e-05, momentum=0.1, affine=True, track_running_stats=True)\n",
              "      (relu): ReLU(inplace=True)\n",
              "      (conv2): Conv2d(64, 64, kernel_size=(3, 3), stride=(1, 1), padding=(1, 1), bias=False)\n",
              "      (bn2): BatchNorm2d(64, eps=1e-05, momentum=0.1, affine=True, track_running_stats=True)\n",
              "    )\n",
              "    (1): BasicBlock(\n",
              "      (conv1): Conv2d(64, 64, kernel_size=(3, 3), stride=(1, 1), padding=(1, 1), bias=False)\n",
              "      (bn1): BatchNorm2d(64, eps=1e-05, momentum=0.1, affine=True, track_running_stats=True)\n",
              "      (relu): ReLU(inplace=True)\n",
              "      (conv2): Conv2d(64, 64, kernel_size=(3, 3), stride=(1, 1), padding=(1, 1), bias=False)\n",
              "      (bn2): BatchNorm2d(64, eps=1e-05, momentum=0.1, affine=True, track_running_stats=True)\n",
              "    )\n",
              "  )\n",
              "  (layer2): Sequential(\n",
              "    (0): BasicBlock(\n",
              "      (conv1): Conv2d(64, 128, kernel_size=(3, 3), stride=(2, 2), padding=(1, 1), bias=False)\n",
              "      (bn1): BatchNorm2d(128, eps=1e-05, momentum=0.1, affine=True, track_running_stats=True)\n",
              "      (relu): ReLU(inplace=True)\n",
              "      (conv2): Conv2d(128, 128, kernel_size=(3, 3), stride=(1, 1), padding=(1, 1), bias=False)\n",
              "      (bn2): BatchNorm2d(128, eps=1e-05, momentum=0.1, affine=True, track_running_stats=True)\n",
              "      (downsample): Sequential(\n",
              "        (0): Conv2d(64, 128, kernel_size=(1, 1), stride=(2, 2), bias=False)\n",
              "        (1): BatchNorm2d(128, eps=1e-05, momentum=0.1, affine=True, track_running_stats=True)\n",
              "      )\n",
              "    )\n",
              "    (1): BasicBlock(\n",
              "      (conv1): Conv2d(128, 128, kernel_size=(3, 3), stride=(1, 1), padding=(1, 1), bias=False)\n",
              "      (bn1): BatchNorm2d(128, eps=1e-05, momentum=0.1, affine=True, track_running_stats=True)\n",
              "      (relu): ReLU(inplace=True)\n",
              "      (conv2): Conv2d(128, 128, kernel_size=(3, 3), stride=(1, 1), padding=(1, 1), bias=False)\n",
              "      (bn2): BatchNorm2d(128, eps=1e-05, momentum=0.1, affine=True, track_running_stats=True)\n",
              "    )\n",
              "  )\n",
              "  (layer3): Sequential(\n",
              "    (0): BasicBlock(\n",
              "      (conv1): Conv2d(128, 256, kernel_size=(3, 3), stride=(2, 2), padding=(1, 1), bias=False)\n",
              "      (bn1): BatchNorm2d(256, eps=1e-05, momentum=0.1, affine=True, track_running_stats=True)\n",
              "      (relu): ReLU(inplace=True)\n",
              "      (conv2): Conv2d(256, 256, kernel_size=(3, 3), stride=(1, 1), padding=(1, 1), bias=False)\n",
              "      (bn2): BatchNorm2d(256, eps=1e-05, momentum=0.1, affine=True, track_running_stats=True)\n",
              "      (downsample): Sequential(\n",
              "        (0): Conv2d(128, 256, kernel_size=(1, 1), stride=(2, 2), bias=False)\n",
              "        (1): BatchNorm2d(256, eps=1e-05, momentum=0.1, affine=True, track_running_stats=True)\n",
              "      )\n",
              "    )\n",
              "    (1): BasicBlock(\n",
              "      (conv1): Conv2d(256, 256, kernel_size=(3, 3), stride=(1, 1), padding=(1, 1), bias=False)\n",
              "      (bn1): BatchNorm2d(256, eps=1e-05, momentum=0.1, affine=True, track_running_stats=True)\n",
              "      (relu): ReLU(inplace=True)\n",
              "      (conv2): Conv2d(256, 256, kernel_size=(3, 3), stride=(1, 1), padding=(1, 1), bias=False)\n",
              "      (bn2): BatchNorm2d(256, eps=1e-05, momentum=0.1, affine=True, track_running_stats=True)\n",
              "    )\n",
              "  )\n",
              "  (layer4): Sequential(\n",
              "    (0): BasicBlock(\n",
              "      (conv1): Conv2d(256, 512, kernel_size=(3, 3), stride=(2, 2), padding=(1, 1), bias=False)\n",
              "      (bn1): BatchNorm2d(512, eps=1e-05, momentum=0.1, affine=True, track_running_stats=True)\n",
              "      (relu): ReLU(inplace=True)\n",
              "      (conv2): Conv2d(512, 512, kernel_size=(3, 3), stride=(1, 1), padding=(1, 1), bias=False)\n",
              "      (bn2): BatchNorm2d(512, eps=1e-05, momentum=0.1, affine=True, track_running_stats=True)\n",
              "      (downsample): Sequential(\n",
              "        (0): Conv2d(256, 512, kernel_size=(1, 1), stride=(2, 2), bias=False)\n",
              "        (1): BatchNorm2d(512, eps=1e-05, momentum=0.1, affine=True, track_running_stats=True)\n",
              "      )\n",
              "    )\n",
              "    (1): BasicBlock(\n",
              "      (conv1): Conv2d(512, 512, kernel_size=(3, 3), stride=(1, 1), padding=(1, 1), bias=False)\n",
              "      (bn1): BatchNorm2d(512, eps=1e-05, momentum=0.1, affine=True, track_running_stats=True)\n",
              "      (relu): ReLU(inplace=True)\n",
              "      (conv2): Conv2d(512, 512, kernel_size=(3, 3), stride=(1, 1), padding=(1, 1), bias=False)\n",
              "      (bn2): BatchNorm2d(512, eps=1e-05, momentum=0.1, affine=True, track_running_stats=True)\n",
              "    )\n",
              "  )\n",
              "  (avgpool): AdaptiveAvgPool2d(output_size=(1, 1))\n",
              "  (fc): Linear(in_features=512, out_features=1000, bias=True)\n",
              ")"
            ]
          },
          "metadata": {
            "tags": []
          },
          "execution_count": 14
        }
      ]
    },
    {
      "cell_type": "markdown",
      "metadata": {
        "id": "LzGUWWgshQSO"
      },
      "source": [
        "### **DEFINING THE FINAL LAYER FOR CLASSIFICATION**"
      ]
    },
    {
      "cell_type": "code",
      "metadata": {
        "colab": {
          "base_uri": "https://localhost:8080/"
        },
        "id": "1iTLmlaGKeh7",
        "outputId": "551f866e-0e02-494b-c9ff-00d07c92c6aa"
      },
      "source": [
        "model.fc = nn.Linear(512, 7)\n",
        "model = model.to(device)\n",
        "model"
      ],
      "execution_count": null,
      "outputs": [
        {
          "output_type": "execute_result",
          "data": {
            "text/plain": [
              "ResNet(\n",
              "  (conv1): Conv2d(3, 64, kernel_size=(7, 7), stride=(2, 2), padding=(3, 3), bias=False)\n",
              "  (bn1): BatchNorm2d(64, eps=1e-05, momentum=0.1, affine=True, track_running_stats=True)\n",
              "  (relu): ReLU(inplace=True)\n",
              "  (maxpool): MaxPool2d(kernel_size=3, stride=2, padding=1, dilation=1, ceil_mode=False)\n",
              "  (layer1): Sequential(\n",
              "    (0): BasicBlock(\n",
              "      (conv1): Conv2d(64, 64, kernel_size=(3, 3), stride=(1, 1), padding=(1, 1), bias=False)\n",
              "      (bn1): BatchNorm2d(64, eps=1e-05, momentum=0.1, affine=True, track_running_stats=True)\n",
              "      (relu): ReLU(inplace=True)\n",
              "      (conv2): Conv2d(64, 64, kernel_size=(3, 3), stride=(1, 1), padding=(1, 1), bias=False)\n",
              "      (bn2): BatchNorm2d(64, eps=1e-05, momentum=0.1, affine=True, track_running_stats=True)\n",
              "    )\n",
              "    (1): BasicBlock(\n",
              "      (conv1): Conv2d(64, 64, kernel_size=(3, 3), stride=(1, 1), padding=(1, 1), bias=False)\n",
              "      (bn1): BatchNorm2d(64, eps=1e-05, momentum=0.1, affine=True, track_running_stats=True)\n",
              "      (relu): ReLU(inplace=True)\n",
              "      (conv2): Conv2d(64, 64, kernel_size=(3, 3), stride=(1, 1), padding=(1, 1), bias=False)\n",
              "      (bn2): BatchNorm2d(64, eps=1e-05, momentum=0.1, affine=True, track_running_stats=True)\n",
              "    )\n",
              "  )\n",
              "  (layer2): Sequential(\n",
              "    (0): BasicBlock(\n",
              "      (conv1): Conv2d(64, 128, kernel_size=(3, 3), stride=(2, 2), padding=(1, 1), bias=False)\n",
              "      (bn1): BatchNorm2d(128, eps=1e-05, momentum=0.1, affine=True, track_running_stats=True)\n",
              "      (relu): ReLU(inplace=True)\n",
              "      (conv2): Conv2d(128, 128, kernel_size=(3, 3), stride=(1, 1), padding=(1, 1), bias=False)\n",
              "      (bn2): BatchNorm2d(128, eps=1e-05, momentum=0.1, affine=True, track_running_stats=True)\n",
              "      (downsample): Sequential(\n",
              "        (0): Conv2d(64, 128, kernel_size=(1, 1), stride=(2, 2), bias=False)\n",
              "        (1): BatchNorm2d(128, eps=1e-05, momentum=0.1, affine=True, track_running_stats=True)\n",
              "      )\n",
              "    )\n",
              "    (1): BasicBlock(\n",
              "      (conv1): Conv2d(128, 128, kernel_size=(3, 3), stride=(1, 1), padding=(1, 1), bias=False)\n",
              "      (bn1): BatchNorm2d(128, eps=1e-05, momentum=0.1, affine=True, track_running_stats=True)\n",
              "      (relu): ReLU(inplace=True)\n",
              "      (conv2): Conv2d(128, 128, kernel_size=(3, 3), stride=(1, 1), padding=(1, 1), bias=False)\n",
              "      (bn2): BatchNorm2d(128, eps=1e-05, momentum=0.1, affine=True, track_running_stats=True)\n",
              "    )\n",
              "  )\n",
              "  (layer3): Sequential(\n",
              "    (0): BasicBlock(\n",
              "      (conv1): Conv2d(128, 256, kernel_size=(3, 3), stride=(2, 2), padding=(1, 1), bias=False)\n",
              "      (bn1): BatchNorm2d(256, eps=1e-05, momentum=0.1, affine=True, track_running_stats=True)\n",
              "      (relu): ReLU(inplace=True)\n",
              "      (conv2): Conv2d(256, 256, kernel_size=(3, 3), stride=(1, 1), padding=(1, 1), bias=False)\n",
              "      (bn2): BatchNorm2d(256, eps=1e-05, momentum=0.1, affine=True, track_running_stats=True)\n",
              "      (downsample): Sequential(\n",
              "        (0): Conv2d(128, 256, kernel_size=(1, 1), stride=(2, 2), bias=False)\n",
              "        (1): BatchNorm2d(256, eps=1e-05, momentum=0.1, affine=True, track_running_stats=True)\n",
              "      )\n",
              "    )\n",
              "    (1): BasicBlock(\n",
              "      (conv1): Conv2d(256, 256, kernel_size=(3, 3), stride=(1, 1), padding=(1, 1), bias=False)\n",
              "      (bn1): BatchNorm2d(256, eps=1e-05, momentum=0.1, affine=True, track_running_stats=True)\n",
              "      (relu): ReLU(inplace=True)\n",
              "      (conv2): Conv2d(256, 256, kernel_size=(3, 3), stride=(1, 1), padding=(1, 1), bias=False)\n",
              "      (bn2): BatchNorm2d(256, eps=1e-05, momentum=0.1, affine=True, track_running_stats=True)\n",
              "    )\n",
              "  )\n",
              "  (layer4): Sequential(\n",
              "    (0): BasicBlock(\n",
              "      (conv1): Conv2d(256, 512, kernel_size=(3, 3), stride=(2, 2), padding=(1, 1), bias=False)\n",
              "      (bn1): BatchNorm2d(512, eps=1e-05, momentum=0.1, affine=True, track_running_stats=True)\n",
              "      (relu): ReLU(inplace=True)\n",
              "      (conv2): Conv2d(512, 512, kernel_size=(3, 3), stride=(1, 1), padding=(1, 1), bias=False)\n",
              "      (bn2): BatchNorm2d(512, eps=1e-05, momentum=0.1, affine=True, track_running_stats=True)\n",
              "      (downsample): Sequential(\n",
              "        (0): Conv2d(256, 512, kernel_size=(1, 1), stride=(2, 2), bias=False)\n",
              "        (1): BatchNorm2d(512, eps=1e-05, momentum=0.1, affine=True, track_running_stats=True)\n",
              "      )\n",
              "    )\n",
              "    (1): BasicBlock(\n",
              "      (conv1): Conv2d(512, 512, kernel_size=(3, 3), stride=(1, 1), padding=(1, 1), bias=False)\n",
              "      (bn1): BatchNorm2d(512, eps=1e-05, momentum=0.1, affine=True, track_running_stats=True)\n",
              "      (relu): ReLU(inplace=True)\n",
              "      (conv2): Conv2d(512, 512, kernel_size=(3, 3), stride=(1, 1), padding=(1, 1), bias=False)\n",
              "      (bn2): BatchNorm2d(512, eps=1e-05, momentum=0.1, affine=True, track_running_stats=True)\n",
              "    )\n",
              "  )\n",
              "  (avgpool): AdaptiveAvgPool2d(output_size=(1, 1))\n",
              "  (fc): Linear(in_features=512, out_features=7, bias=True)\n",
              ")"
            ]
          },
          "metadata": {
            "tags": []
          },
          "execution_count": 15
        }
      ]
    },
    {
      "cell_type": "markdown",
      "metadata": {
        "id": "RQX01tn9h1NZ"
      },
      "source": [
        "### **DEFINING A FUNCTION TO TRAIN THE MODEL, AND RETURN THE LOSS COMPONENTS**"
      ]
    },
    {
      "cell_type": "code",
      "metadata": {
        "id": "-OREmYOLacjW"
      },
      "source": [
        "def train_model(model, criteria, optimizer, scheduler,device, num_epochs=25,lambda1=0.33,lambda2=0.33,lambda3=0.33):\n",
        "    since = time.time()\n",
        "\n",
        "    best_model_wts = copy.deepcopy(model.state_dict())\n",
        "    best_acc = 0.0\n",
        "    c_no = 0\n",
        "    bol = True\n",
        "    loss_a_array = []\n",
        "    loss_b_array = []\n",
        "    loss_c_array = []\n",
        "    for epoch in range(1, num_epochs+1):\n",
        "        print('Epoch {}/{}'.format(epoch, num_epochs ))\n",
        "        print('-' * 10)\n",
        "        iter = 0\n",
        "        # Each epoch has a training and validation phase\n",
        "        for phase in ['train', 'valid']:\n",
        "            if phase == 'train':\n",
        "                scheduler.step()\n",
        "                model.train()  # Set model to training mode\n",
        "            else:\n",
        "                model.eval()   # Set model to evaluate mode\n",
        "\n",
        "            running_loss = 0.0\n",
        "            running_corrects = 0\n",
        "            loss = torch.zeros(4,7).to(device)\n",
        "            # Iterate over data.\n",
        "            for inputs, labels in train_ds:\n",
        "                if iter%100 == 0:\n",
        "                  print('Iterations :', iter)\n",
        "\n",
        "                iter+=1\n",
        "                # print(\"Inside Train\")\n",
        "                inputs = inputs.float().to(device)\n",
        "                labels = labels.to(device)\n",
        "                print(inputs.shape)\n",
        "                # zero the parameter gradients\n",
        "                optimizer.zero_grad()\n",
        "\n",
        "                # forward\n",
        "                # track history if only in train\n",
        "                try:\n",
        "                    bol = True\n",
        "                    with torch.set_grad_enabled(phase == 'train'):\n",
        "                        outputs_train = model(inputs)\n",
        "                        _, preds = torch.max(outputs_train, 1)\n",
        "                        loss_a = criteria(outputs_train, labels)\n",
        "                        # print(\"loss a \", loss_a.shape)\n",
        "                        loss_b = torch.zeros(7,4).to(device)\n",
        "                        # print(\"loss b \", loss_b.shape)\n",
        "                        loss_c = torch.zeros(4,7).to(device)\n",
        "\n",
        "                        # print(\"loss c \", loss_b.shape)\n",
        "                        \n",
        "                        for inputs_test, labels_test in test_ds:\n",
        "                            # print(\"Inside Test\")\n",
        "                            inputs_test = inputs_test.float().to(device)\n",
        "                            # print(\"Input_Test shape \",inputs_test.shape)\n",
        "                            outputs_test = model(inputs_test)\n",
        "                            # print(\"Output_Test shape \",outputs_test.shape)\n",
        "                            _,sigma = torch.max(outputs_test,1) #Add a 1?\n",
        "                            ypred = torch.argmax(outputs_test,1)\n",
        "                            cmp = torch.ones(len(outputs_test)) * 0.95\n",
        "                            cmp = cmp.to(device)\n",
        "                            cmp = torch.ge(sigma, cmp)\n",
        "                            loss_b+=torch.mul(torch.mul(sigma, criteria(outputs_test, ypred)),cmp)\n",
        "                            loss_c+= -torch.mul((outputs_test), torch.log(outputs_test))\n",
        "\n",
        "                        loss = lambda1 * loss_a + lambda2 * loss_b + lambda3 * loss_c\n",
        "\n",
        "                        # taking mean of each loss components \n",
        "                        loss_a_mean = torch.mean(loss_a)\n",
        "                        loss_b_mean = torch.mean(loss_b)\n",
        "                        loss_c_mean = torch.mean(loss_c)\n",
        "                        loss_a_array.append(loss_a_mean)\n",
        "                        loss_b_array.append(loss_b_mean)\n",
        "                        loss_c_array.append(loss_c_mean)\n",
        "\n",
        "\n",
        "                        # backward + optimize only if in training phase\n",
        "                        if phase == 'train':\n",
        "                            loss.backward()\n",
        "                            optimizer.step()\n",
        "                except:\n",
        "                    c_no = c_no + 1\n",
        "                    bol = False\n",
        "                    loss = torch.mul(loss, 0)\n",
        "                # statistics\n",
        "                if bol:\n",
        "                    running_loss += loss.item() * inputs.size(0)\n",
        "                    running_corrects += torch.sum(preds == labels)\n",
        "\n",
        "            epoch_loss = running_loss / dataset_sizes[phase]\n",
        "            epoch_acc = running_corrects.double() / dataset_sizes[phase]\n",
        "\n",
        "            print('{} Loss: {:.4f} Acc: {:.4f}'.format(\n",
        "                phase, epoch_loss, epoch_acc))\n",
        "            print(\"No of catches: \",c_no)\n",
        "            # deep copy the model\n",
        "            if phase == 'valid' and epoch_acc > best_acc:\n",
        "                best_acc = epoch_acc\n",
        "                best_model_wts = copy.deepcopy(model.state_dict())\n",
        "\n",
        "        print()\n",
        "\n",
        "    time_elapsed = time.time() - since\n",
        "    print('Training complete in {:.0f}m {:.0f}s'.format(\n",
        "        time_elapsed // 60, time_elapsed % 60))\n",
        "    print('Best val Acc: {:4f}'.format(best_acc))\n",
        "\n",
        "    # load best model weights\n",
        "    model.load_state_dict(best_model_wts)\n",
        "    return model,loss_a_array,loss_b_array,loss_c_array"
      ],
      "execution_count": null,
      "outputs": []
    },
    {
      "cell_type": "code",
      "metadata": {
        "id": "x8FfW3hsanGZ"
      },
      "source": [
        "criteria = nn.CrossEntropyLoss()\n",
        "# Observe that all parameters are being optimized\n",
        "optimizer = optim.SGD(model.parameters(), lr=0.001, momentum=0.9)\n",
        "scheduler = lr_scheduler.StepLR(optimizer, step_size=7, gamma=0.1)\n",
        "# Number of epochs\n",
        "eps=5\n"
      ],
      "execution_count": null,
      "outputs": []
    },
    {
      "cell_type": "markdown",
      "metadata": {
        "id": "5AMrJQ-2iKZ_"
      },
      "source": [
        "## **TRAINING THE MODEL**"
      ]
    },
    {
      "cell_type": "code",
      "metadata": {
        "id": "etwb2cw7aqZ3"
      },
      "source": [
        "model,loss_a_array,loss_b_array,loss_c_array = train_model(model, criteria, optimizer, scheduler,device, eps)"
      ],
      "execution_count": null,
      "outputs": []
    },
    {
      "cell_type": "markdown",
      "metadata": {
        "id": "JR2zJry0iNs-"
      },
      "source": [
        "### **PLOTTING THE LOSS COMPONENTS RETURNED FROM TRAINING**"
      ]
    },
    {
      "cell_type": "code",
      "metadata": {
        "id": "MV9j4g7C6Geu"
      },
      "source": [
        "plt.plot(loss_a_array,color = 'r', label = 'loss_a')\n",
        "plt.plot(loss_b_array,color = 'b', label = 'loss_b')\n",
        "plt.plot(loss_c_array,color = 'g', label = 'loss_c')\n",
        "plt.xlabel(\"Training Progress --->\")\n",
        "plt.ylabel(\"Loss\")\n",
        "plt.legend()"
      ],
      "execution_count": null,
      "outputs": []
    },
    {
      "cell_type": "code",
      "metadata": {
        "id": "OSGU-RgDmibo"
      },
      "source": [
        ""
      ],
      "execution_count": null,
      "outputs": []
    }
  ]
}